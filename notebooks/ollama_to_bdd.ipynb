{
 "cells": [
  {
   "cell_type": "markdown",
   "id": "4dd4150f",
   "metadata": {},
   "source": [
    "## Création BDV\n"
   ]
  },
  {
   "cell_type": "code",
   "execution_count": 6,
   "id": "96dc6cd8",
   "metadata": {},
   "outputs": [],
   "source": [
    "import chromadb\n",
    "\n",
    "client = chromadb.Client()\n",
    "collection = client.get_or_create_collection(\"fruit\")"
   ]
  },
  {
   "cell_type": "markdown",
   "id": "3117ad30",
   "metadata": {},
   "source": [
    "## Add Records"
   ]
  },
  {
   "cell_type": "code",
   "execution_count": 7,
   "id": "86b54424",
   "metadata": {},
   "outputs": [],
   "source": [
    "collection.add(\n",
    "    ids=[\"1\", \"2\", \"3\", \"4\", \"5\", \"6\", \"7\"],\n",
    "    documents=[\n",
    "        \"apple\",\n",
    "        \"banana\",\n",
    "        \"pineapple\",\n",
    "        \"mango\",\n",
    "        \"dragonfruit\",\n",
    "        \"passionfruit\",\n",
    "        \"raspberry\"\n",
    "    ],\n",
    "    metadatas=[\n",
    "        { \"color\": \"red\", \"weight\": 180 },\n",
    "        { \"color\": \"yellow\", \"weight\": 120 },\n",
    "        { \"color\": \"brown\", \"weight\": 900 },\n",
    "        { \"color\": \"yellow\", \"weight\": 200 },\n",
    "        { \"color\": \"pink\", \"weight\": 600 },\n",
    "        { \"color\": \"purple\", \"weight\": 18 },\n",
    "        { \"color\": \"red\", \"weight\": 4 },\n",
    "    ]\n",
    ")"
   ]
  },
  {
   "cell_type": "markdown",
   "id": "7eac8ccf",
   "metadata": {},
   "source": [
    "## Query"
   ]
  },
  {
   "cell_type": "markdown",
   "id": "91a642cf",
   "metadata": {},
   "source": [
    "### Semantic Search"
   ]
  },
  {
   "cell_type": "code",
   "execution_count": 8,
   "id": "e29558b3",
   "metadata": {},
   "outputs": [
    {
     "name": "stdout",
     "output_type": "stream",
     "text": [
      "['mango', 'banana', 'dragonfruit', 'pineapple', 'passionfruit']\n"
     ]
    }
   ],
   "source": [
    "results = collection.query(\n",
    "    query_texts=[\"Tropical\"],\n",
    "    n_results=5\n",
    ")\n",
    "\n",
    "print(results[\"documents\"][0])"
   ]
  },
  {
   "cell_type": "markdown",
   "id": "2084295d",
   "metadata": {},
   "source": [
    "### Metadata Filtering"
   ]
  },
  {
   "cell_type": "code",
   "execution_count": 9,
   "id": "d10ff233",
   "metadata": {},
   "outputs": [
    {
     "name": "stdout",
     "output_type": "stream",
     "text": [
      "['mango']\n"
     ]
    }
   ],
   "source": [
    "results = collection.query(\n",
    "    query_texts=[\"Tropical\"],\n",
    "    where={\"$and\": [\n",
    "        {\"color\": \"yellow\"},\n",
    "        {\"weight\": {\"$gt\": 150}}\n",
    "    ]},\n",
    "    n_results=5\n",
    ")\n",
    "\n",
    "print(results[\"documents\"][0])"
   ]
  }
 ],
 "metadata": {
  "kernelspec": {
   "display_name": "fake-news-detection (3.12.3)",
   "language": "python",
   "name": "python3"
  },
  "language_info": {
   "codemirror_mode": {
    "name": "ipython",
    "version": 3
   },
   "file_extension": ".py",
   "mimetype": "text/x-python",
   "name": "python",
   "nbconvert_exporter": "python",
   "pygments_lexer": "ipython3",
   "version": "3.12.3"
  }
 },
 "nbformat": 4,
 "nbformat_minor": 5
}
