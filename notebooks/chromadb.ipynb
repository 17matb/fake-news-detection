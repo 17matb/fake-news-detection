{
 "cells": [
  {
   "cell_type": "markdown",
   "id": "270901a5",
   "metadata": {},
   "source": [
    "### Import"
   ]
  },
  {
   "cell_type": "code",
   "execution_count": 1,
   "id": "23a8d2c8",
   "metadata": {},
   "outputs": [],
   "source": [
    "import chromadb\n",
    "import re\n",
    "import pandas as pd\n",
    "from chromadb.utils import embedding_functions\n",
    "from html import unescape"
   ]
  },
  {
   "cell_type": "markdown",
   "id": "3d993290",
   "metadata": {},
   "source": [
    "### Chargement CSV"
   ]
  },
  {
   "cell_type": "code",
   "execution_count": 2,
   "id": "728841ad",
   "metadata": {},
   "outputs": [],
   "source": [
    "fake_df = pd.read_csv('../data/Fake.csv')\n",
    "true_df = pd.read_csv('../data/True.csv')"
   ]
  },
  {
   "cell_type": "code",
   "execution_count": 3,
   "id": "d0add3e0",
   "metadata": {},
   "outputs": [],
   "source": [
    "fake_df['label'] = 'fake'\n",
    "true_df['label'] = 'true'"
   ]
  },
  {
   "cell_type": "code",
   "execution_count": 4,
   "id": "0effbcce",
   "metadata": {},
   "outputs": [],
   "source": [
    "clean_fake_df = fake_df.copy()\n",
    "clean_true_df = true_df.copy()"
   ]
  },
  {
   "cell_type": "code",
   "execution_count": 5,
   "id": "d992a1c0",
   "metadata": {},
   "outputs": [],
   "source": [
    "clean_fake_df = clean_fake_df.drop_duplicates('text')\n",
    "clean_true_df = clean_true_df.drop_duplicates('text')"
   ]
  },
  {
   "cell_type": "code",
   "execution_count": 6,
   "id": "60dfdeca",
   "metadata": {},
   "outputs": [],
   "source": [
    "def remove_if_brackets(text):\n",
    "    if text.strip().startswith('[') and text.strip().endswith(']'):\n",
    "        return ''\n",
    "    return text\n",
    "\n",
    "\n",
    "clean_fake_df['text'] = clean_fake_df['text'].apply(lambda x: remove_if_brackets(x))\n",
    "clean_fake_df['title'] = clean_fake_df['title'].apply(lambda x: remove_if_brackets(x))\n",
    "\n",
    "clean_true_df['text'] = clean_true_df['text'].apply(lambda x: remove_if_brackets(x))\n",
    "clean_true_df['title'] = clean_true_df['title'].apply(lambda x: remove_if_brackets(x))"
   ]
  },
  {
   "cell_type": "code",
   "execution_count": 7,
   "id": "b81848c2",
   "metadata": {},
   "outputs": [],
   "source": [
    "def normalize_spaces(text):\n",
    "    return re.sub(r'\\s+', ' ', text).strip()\n",
    "\n",
    "\n",
    "clean_fake_df['text'] = clean_fake_df['text'].apply(lambda x: normalize_spaces(x))\n",
    "clean_fake_df['title'] = clean_fake_df['title'].apply(lambda x: normalize_spaces(x))\n",
    "\n",
    "clean_true_df['text'] = clean_true_df['text'].apply(lambda x: normalize_spaces(x))\n",
    "clean_true_df['title'] = clean_true_df['title'].apply(lambda x: normalize_spaces(x))"
   ]
  },
  {
   "cell_type": "code",
   "execution_count": 8,
   "id": "f35f0274",
   "metadata": {},
   "outputs": [],
   "source": [
    "def remove_special_characters(text):\n",
    "    return re.sub(r'[^a-zA-Z0-9\\s]', '', text)\n",
    "\n",
    "\n",
    "clean_fake_df['text'] = clean_fake_df['text'].apply(\n",
    "    lambda x: remove_special_characters(x)\n",
    ")\n",
    "clean_fake_df['title'] = clean_fake_df['title'].apply(\n",
    "    lambda x: remove_special_characters(x)\n",
    ")\n",
    "\n",
    "clean_true_df['text'] = clean_true_df['text'].apply(\n",
    "    lambda x: remove_special_characters(x)\n",
    ")\n",
    "clean_true_df['title'] = clean_true_df['title'].apply(\n",
    "    lambda x: remove_special_characters(x)\n",
    ")"
   ]
  },
  {
   "cell_type": "code",
   "execution_count": 9,
   "id": "2cf0f537",
   "metadata": {},
   "outputs": [],
   "source": [
    "def remove_urls(text):\n",
    "    return re.sub(r'http\\S+|www\\S+', '', text)\n",
    "\n",
    "\n",
    "clean_fake_df['text'] = clean_fake_df['text'].apply(lambda x: remove_urls(x))\n",
    "clean_fake_df['title'] = clean_fake_df['title'].apply(lambda x: remove_urls(x))\n",
    "\n",
    "clean_true_df['text'] = clean_true_df['text'].apply(lambda x: remove_urls(x))\n",
    "clean_true_df['title'] = clean_true_df['title'].apply(lambda x: remove_urls(x))"
   ]
  },
  {
   "cell_type": "code",
   "execution_count": 10,
   "id": "03caa462",
   "metadata": {},
   "outputs": [],
   "source": [
    "def remove_html_tags(text):\n",
    "    return re.sub(r'<.*?>', '', text)\n",
    "\n",
    "\n",
    "clean_fake_df['text'] = clean_fake_df['text'].apply(lambda x: remove_html_tags(x))\n",
    "clean_fake_df['title'] = clean_fake_df['title'].apply(lambda x: remove_html_tags(x))\n",
    "\n",
    "clean_true_df['text'] = clean_true_df['text'].apply(lambda x: remove_html_tags(x))\n",
    "clean_true_df['title'] = clean_true_df['title'].apply(lambda x: remove_html_tags(x))"
   ]
  },
  {
   "cell_type": "code",
   "execution_count": 11,
   "id": "22a74d7b",
   "metadata": {},
   "outputs": [],
   "source": [
    "clean_true_df['text'] = clean_true_df['text'].apply(lambda x: unescape(x))\n",
    "clean_true_df['title'] = clean_true_df['title'].apply(lambda x: unescape(x))"
   ]
  },
  {
   "cell_type": "code",
   "execution_count": 12,
   "id": "135e7ffb",
   "metadata": {},
   "outputs": [
    {
     "data": {
      "application/vnd.microsoft.datawrangler.viewer.v0+json": {
       "columns": [
        {
         "name": "index",
         "rawType": "int64",
         "type": "integer"
        },
        {
         "name": "title",
         "rawType": "object",
         "type": "string"
        },
        {
         "name": "text",
         "rawType": "object",
         "type": "string"
        },
        {
         "name": "subject",
         "rawType": "object",
         "type": "string"
        },
        {
         "name": "date",
         "rawType": "object",
         "type": "string"
        },
        {
         "name": "label",
         "rawType": "object",
         "type": "string"
        }
       ],
       "ref": "eb315b51-e908-44e4-b08d-91e9d7de02ae",
       "rows": [],
       "shape": {
        "columns": 5,
        "rows": 0
       }
      },
      "text/html": [
       "<div>\n",
       "<style scoped>\n",
       "    .dataframe tbody tr th:only-of-type {\n",
       "        vertical-align: middle;\n",
       "    }\n",
       "\n",
       "    .dataframe tbody tr th {\n",
       "        vertical-align: top;\n",
       "    }\n",
       "\n",
       "    .dataframe thead th {\n",
       "        text-align: right;\n",
       "    }\n",
       "</style>\n",
       "<table border=\"1\" class=\"dataframe\">\n",
       "  <thead>\n",
       "    <tr style=\"text-align: right;\">\n",
       "      <th></th>\n",
       "      <th>title</th>\n",
       "      <th>text</th>\n",
       "      <th>subject</th>\n",
       "      <th>date</th>\n",
       "      <th>label</th>\n",
       "    </tr>\n",
       "  </thead>\n",
       "  <tbody>\n",
       "  </tbody>\n",
       "</table>\n",
       "</div>"
      ],
      "text/plain": [
       "Empty DataFrame\n",
       "Columns: [title, text, subject, date, label]\n",
       "Index: []"
      ]
     },
     "execution_count": 12,
     "metadata": {},
     "output_type": "execute_result"
    }
   ],
   "source": [
    "clean_fake_df = clean_fake_df[clean_fake_df['text'].str.strip().astype(bool)]\n",
    "clean_fake_df = clean_fake_df[clean_fake_df['title'].str.strip().astype(bool)]\n",
    "clean_fake_df[clean_fake_df['title'].str.isspace()]"
   ]
  },
  {
   "cell_type": "code",
   "execution_count": 13,
   "id": "23a6c80b",
   "metadata": {},
   "outputs": [
    {
     "data": {
      "application/vnd.microsoft.datawrangler.viewer.v0+json": {
       "columns": [
        {
         "name": "index",
         "rawType": "int64",
         "type": "integer"
        },
        {
         "name": "title",
         "rawType": "object",
         "type": "string"
        },
        {
         "name": "text",
         "rawType": "object",
         "type": "string"
        },
        {
         "name": "subject",
         "rawType": "object",
         "type": "string"
        },
        {
         "name": "date",
         "rawType": "object",
         "type": "string"
        },
        {
         "name": "label",
         "rawType": "object",
         "type": "string"
        }
       ],
       "ref": "5be80256-4d90-4e16-91a2-5de8cebbc7a3",
       "rows": [],
       "shape": {
        "columns": 5,
        "rows": 0
       }
      },
      "text/html": [
       "<div>\n",
       "<style scoped>\n",
       "    .dataframe tbody tr th:only-of-type {\n",
       "        vertical-align: middle;\n",
       "    }\n",
       "\n",
       "    .dataframe tbody tr th {\n",
       "        vertical-align: top;\n",
       "    }\n",
       "\n",
       "    .dataframe thead th {\n",
       "        text-align: right;\n",
       "    }\n",
       "</style>\n",
       "<table border=\"1\" class=\"dataframe\">\n",
       "  <thead>\n",
       "    <tr style=\"text-align: right;\">\n",
       "      <th></th>\n",
       "      <th>title</th>\n",
       "      <th>text</th>\n",
       "      <th>subject</th>\n",
       "      <th>date</th>\n",
       "      <th>label</th>\n",
       "    </tr>\n",
       "  </thead>\n",
       "  <tbody>\n",
       "  </tbody>\n",
       "</table>\n",
       "</div>"
      ],
      "text/plain": [
       "Empty DataFrame\n",
       "Columns: [title, text, subject, date, label]\n",
       "Index: []"
      ]
     },
     "execution_count": 13,
     "metadata": {},
     "output_type": "execute_result"
    }
   ],
   "source": [
    "clean_true_df = clean_true_df[clean_true_df['text'].str.strip().astype(bool)]\n",
    "clean_true_df = clean_true_df[clean_true_df['title'].str.strip().astype(bool)]\n",
    "clean_true_df[clean_true_df['title'].str.isspace()]"
   ]
  },
  {
   "cell_type": "code",
   "execution_count": 14,
   "id": "941b3c90",
   "metadata": {},
   "outputs": [],
   "source": [
    "clean_fake_df['date'] = pd.to_datetime(\n",
    "    clean_fake_df['date'], errors='coerce', format='mixed'\n",
    ")\n",
    "clean_true_df['date'] = pd.to_datetime(\n",
    "    clean_true_df['date'], errors='coerce', format='mixed'\n",
    ")"
   ]
  },
  {
   "cell_type": "code",
   "execution_count": 15,
   "id": "dda33317",
   "metadata": {},
   "outputs": [],
   "source": [
    "clean_fake_df['text'] = clean_fake_df['text'].str.lower()\n",
    "clean_fake_df['title'] = clean_fake_df['title'].str.lower()\n",
    "clean_fake_df['subject'] = clean_fake_df['subject'].str.lower()\n",
    "\n",
    "clean_true_df['text'] = clean_true_df['text'].str.lower()\n",
    "clean_true_df['title'] = clean_true_df['title'].str.lower()\n",
    "clean_true_df['subject'] = clean_true_df['subject'].str.lower()"
   ]
  },
  {
   "cell_type": "code",
   "execution_count": 16,
   "id": "227efe20",
   "metadata": {},
   "outputs": [],
   "source": [
    "news_df = pd.concat([clean_fake_df, clean_true_df], ignore_index=True)"
   ]
  },
  {
   "cell_type": "markdown",
   "id": "7bd09f63",
   "metadata": {},
   "source": [
    "### Chunks"
   ]
  },
  {
   "cell_type": "code",
   "execution_count": 17,
   "id": "64b9fa9b",
   "metadata": {},
   "outputs": [],
   "source": [
    "def chunk_text(text, chunk_size=200, overlap=10):\n",
    "    # text = text.split()\n",
    "    return [text[i:i+chunk_size] for i in range(0, len(text), chunk_size - overlap)]\n",
    "\n",
    "news_df[\"chunks\"] = news_df[\"text\"].apply(chunk_text)"
   ]
  },
  {
   "cell_type": "code",
   "execution_count": 18,
   "id": "a86c2b58",
   "metadata": {},
   "outputs": [
    {
     "data": {
      "application/vnd.microsoft.datawrangler.viewer.v0+json": {
       "columns": [
        {
         "name": "index",
         "rawType": "int64",
         "type": "integer"
        },
        {
         "name": "chunks",
         "rawType": "object",
         "type": "unknown"
        }
       ],
       "ref": "40ee9133-d05b-4756-9422-9a01d0754073",
       "rows": [
        [
         "0",
         "['donald trump just couldn t wish all americans a happy new year and leave it at that instead he had to give a shout out to his enemies haters and the very dishonest fake news media the former reality s', ' reality show star had just one job to do and he couldn t do it as our country rapidly grows stronger and smarter i want to wish all of my friends supporters enemies haters and even the very dishonest', ' dishonest fake news media a happy and healthy new year president angry pants tweeted 2018 will be a great year for america as our country rapidly grows stronger and smarter i want to wish all of my f', 'll of my friends supporters enemies haters and even the very dishonest fake news media a happy and healthy new year 2018 will be a great year for america donald j trump realdonaldtrump december 31 201', 'ber 31 2017trump s tweet went down about as welll as you d expectwhat kind of president sends a new year s greeting like this despicable petty infantile gibberish only trump his lack of decency won t ', 'ncy won t even allow him to rise above the gutter long enough to wish the american citizens a happy new year bishop talbert swan talbertswan december 31 2017no one likes you calvin calvinstowell decem', 'well december 31 2017your impeachment would make 2018 a great year for america but i ll also accept regaining control of congress miranda yaver mirandayaver december 31 2017do you hear yourself talk w', 'elf talk when you have to include that many people that hate you you have to wonder why do the they all hate me alan sandoval alansandoval13 december 31 2017who uses the word haters in a new years wis', ' years wish marlene marlene399 december 31 2017you can t just say happy new year koren pollitt korencarpenter december 31 2017here s trump s new year s eve tweet from 2016happy new year to all includi', 'll including to my many enemies and those who have fought me and lost so badly they just don t know what to do love donald j trump realdonaldtrump december 31 2016this is nothing new for trump he s be', 'mp he s been doing this for yearstrump has directed messages to his enemies and haters for new year s easter thanksgiving and the anniversary of 911 pictwittercom4fpae2kypa daniel dale ddale8 december', '8 december 31 2017trump s holiday tweets are clearly not presidentialhow long did he work at hallmark before becoming president steven goodine sgoodine december 31 2017he s always been like this    th', 'this    the only difference is that in the last few years his filter has been breaking down roy schulze thbthttt december 31 2017who apart from a teenager uses the term haters wendy wendywhistles dece', 'stles december 31 2017he s a fucking 5 year old who knows rainyday80 december 31 2017so to all the people who voted for this a hole thinking he would change once he got into power you were wrong 70yea', 'rong 70yearold men don t change and now he s a year olderphoto by andrew burtongetty images']"
        ],
        [
         "1",
         "['house intelligence committee chairman devin nunes is going to have a bad day he s been under the assumption like many of us that the christopher steeledossier was what prompted the russia investigatio', 'vestigation so he s been lashing out at the department of justice and the fbi in order to protect trump as it happens the dossier is not what started the investigation according to documents obtained ', ' obtained by the new york timesformer trump campaign adviser george papadopoulos was drunk in a wine bar when he revealed knowledge of russian opposition research on hillary clintonon top of that papa', ' that papadopoulos wasn t just a covfefe boy for trump as his administration has alleged he had a much larger role but none so damning as being a drunken fool in a wine bar coffee boys don t help to a', ' help to arrange a new york meeting between trump and president abdel fattah elsisi of egypt two months before the election it was known before that the former aide set up meetings with world leaders ', 'd leaders for trump but team trump ran with him being merely a coffee boyin may 2016 papadopoulos revealed to australian diplomat alexander downer that russian officials were shopping around possible ', ' possible dirt on thendemocratic presidential nominee hillary clinton exactly how much mr papadopoulos said that night at the kensington wine rooms with the australian alexander downer is unclear the ', 'clear the report states but two months later when leaked democratic emails began appearing online australian officials passed the information about mr papadopoulos to their american counterparts accor', 'arts according to four current and former american and foreign officials with direct knowledge of the australians role papadopoulos pleaded guilty to lying to the fbi and is now a cooperating witness ', 'g witness with special counsel robert mueller s teamthis isn t a presidency it s a badly scripted reality tv showphoto by win mcnameegetty images']"
        ]
       ],
       "shape": {
        "columns": 1,
        "rows": 2
       }
      },
      "text/plain": [
       "0    [donald trump just couldn t wish all americans...\n",
       "1    [house intelligence committee chairman devin n...\n",
       "Name: chunks, dtype: object"
      ]
     },
     "metadata": {},
     "output_type": "display_data"
    }
   ],
   "source": [
    "display(news_df['chunks'].head(2))"
   ]
  },
  {
   "cell_type": "markdown",
   "id": "0ebf004a",
   "metadata": {},
   "source": [
    "### Création du client Chroma"
   ]
  },
  {
   "cell_type": "code",
   "execution_count": 19,
   "id": "88727c15",
   "metadata": {},
   "outputs": [],
   "source": [
    "chroma_client = chromadb.Client()"
   ]
  },
  {
   "cell_type": "markdown",
   "id": "616518d7",
   "metadata": {},
   "source": [
    "### Création des embeddings"
   ]
  },
  {
   "cell_type": "code",
   "execution_count": 20,
   "id": "c129eca7",
   "metadata": {},
   "outputs": [],
   "source": [
    "ollama_embed = embedding_functions.OllamaEmbeddingFunction(model_name='all-minilm:latest')"
   ]
  },
  {
   "cell_type": "code",
   "execution_count": 21,
   "id": "3a1e169e",
   "metadata": {},
   "outputs": [
    {
     "name": "stdout",
     "output_type": "stream",
     "text": [
      "[array([-2.03935262e-02,  2.51360629e-02, -6.81411009e-04,  1.15855830e-02,\n",
      "       -3.80322784e-02, -1.20117873e-01,  4.16751094e-02, -2.09032428e-02,\n",
      "       -5.89546897e-02,  2.42159050e-02,  6.22026622e-02,  6.76669106e-02,\n",
      "        3.30636092e-02, -1.04195131e-02, -3.10804658e-02, -3.27129439e-02,\n",
      "       -2.06209952e-03,  9.21510160e-03, -1.24933176e-01,  1.11401910e-02,\n",
      "        3.90760191e-02,  5.43305725e-02, -2.86404416e-03,  4.45343144e-02,\n",
      "       -8.54468793e-02, -2.28452161e-02,  3.90663520e-02,  3.60194519e-02,\n",
      "       -3.20656486e-02, -6.41789064e-02,  5.80813587e-02,  4.67638299e-02,\n",
      "        8.06346238e-02, -7.68541545e-03, -2.21431032e-02,  6.72523901e-02,\n",
      "       -4.50143814e-02, -1.02082230e-01,  1.31178834e-03,  4.69050147e-02,\n",
      "        2.64180005e-02, -6.98286816e-02, -4.44863960e-02, -6.83199195e-03,\n",
      "        1.93007812e-02,  2.07665656e-02,  6.65277336e-03,  3.54986228e-02,\n",
      "        1.03962682e-01,  1.75311267e-02, -4.29008566e-02, -5.70672974e-02,\n",
      "       -1.14082163e-02,  9.20684263e-03,  4.58509140e-02,  7.01325433e-03,\n",
      "        2.42073350e-02, -6.06132038e-02, -1.50534650e-02, -3.05795912e-02,\n",
      "       -6.83547482e-02,  5.70549145e-02, -3.22503410e-02,  4.11142297e-02,\n",
      "        9.01914611e-02, -7.68665522e-02, -2.23816801e-02,  2.61717383e-02,\n",
      "       -5.77685609e-02, -6.04525991e-02, -4.39393036e-02,  1.01450644e-02,\n",
      "        3.42333838e-02,  7.58792907e-02, -4.51191403e-02,  5.80986124e-03,\n",
      "        1.84538309e-02, -1.84291904e-03,  1.76783875e-02,  5.49999140e-02,\n",
      "        6.73218444e-02, -1.00059979e-01,  1.77575685e-02,  4.32951674e-02,\n",
      "        1.06225545e-02, -1.46718835e-02, -1.32141514e-02, -1.87147618e-03,\n",
      "       -4.54938635e-02, -3.42026278e-02, -1.46418214e-01, -1.12370532e-02,\n",
      "       -1.12838494e-02,  1.17126033e-02, -8.87003615e-02, -2.84666121e-02,\n",
      "        7.53723234e-02, -1.85223185e-02, -1.70371830e-01,  1.55934781e-01,\n",
      "        2.29117014e-02,  4.66117524e-02,  3.99846286e-02,  2.38737594e-02,\n",
      "        4.98068072e-02,  3.03006656e-02,  3.85280990e-04,  6.96332008e-02,\n",
      "       -2.22903285e-02, -2.74113305e-02,  6.06934726e-03, -4.85261828e-02,\n",
      "        4.93353754e-02, -7.52176950e-03,  6.91216514e-02, -7.17802793e-02,\n",
      "       -2.02603377e-02,  1.44432113e-02, -3.00972518e-02,  4.13107267e-03,\n",
      "        5.35131358e-02, -5.89056499e-02,  2.30606869e-02,  1.31435804e-02,\n",
      "        1.07741700e-02,  2.32222322e-02,  2.83386372e-02, -3.84695808e-33,\n",
      "        4.35028821e-02, -3.56882880e-03,  4.22250479e-02,  1.23170264e-01,\n",
      "        1.74938943e-02,  9.54864547e-03, -9.44596753e-02, -2.12457106e-02,\n",
      "        3.42638865e-02,  2.61034779e-02,  2.80338600e-02,  1.27332974e-02,\n",
      "       -4.61689197e-02,  3.03138029e-02, -4.53006364e-02,  1.12096779e-01,\n",
      "       -9.12421718e-02, -1.37967141e-02,  2.57441942e-02,  8.32669660e-02,\n",
      "       -7.69593343e-02, -1.03916693e-02,  9.43932310e-03,  8.87256414e-02,\n",
      "       -9.06734820e-03,  8.37037619e-03,  1.07810590e-02, -9.07090083e-02,\n",
      "        9.61258933e-02,  7.23396521e-03, -3.82411778e-02, -5.10951802e-02,\n",
      "        2.04557404e-02,  1.57620627e-02, -5.91735216e-03,  1.11870971e-02,\n",
      "       -7.14250747e-03, -7.32661188e-02, -7.28354305e-02, -6.06269995e-03,\n",
      "       -5.94160929e-02,  4.54278253e-02,  4.35952023e-02, -7.25242961e-03,\n",
      "       -2.55772695e-02, -3.45144495e-02,  2.56204698e-02,  1.81500316e-02,\n",
      "        4.01043780e-02,  3.98950838e-02, -4.32433970e-02,  8.23439565e-03,\n",
      "       -3.87244374e-02,  5.58162369e-02, -1.05445990e-02,  1.70981884e-02,\n",
      "        4.75095846e-02, -4.79655787e-02, -1.31474761e-02,  4.66170348e-02,\n",
      "       -3.87321459e-03,  1.02436058e-01, -4.26223986e-02, -2.80696340e-02,\n",
      "       -8.14404991e-03, -1.87974423e-02,  5.21011427e-02,  3.39007825e-02,\n",
      "        5.95678575e-02,  3.98554653e-03, -1.95864644e-02,  2.67648175e-02,\n",
      "        2.09432133e-02,  2.19937414e-02,  1.29204765e-02,  5.40651381e-02,\n",
      "        5.21135814e-02, -3.07568046e-03,  2.47055162e-02, -7.93243796e-02,\n",
      "        2.85795499e-02, -8.51452351e-04, -3.28345248e-03, -5.18569238e-02,\n",
      "        9.36175808e-02,  1.90713834e-02, -9.50059388e-03, -8.57892856e-02,\n",
      "       -1.75030660e-02, -4.24711965e-03, -6.50667772e-02,  5.91013171e-02,\n",
      "        3.57792899e-02, -5.08054998e-03, -8.91452581e-02,  2.57887004e-33,\n",
      "        1.39821276e-01,  1.73997749e-02, -5.44845052e-02, -6.70147538e-02,\n",
      "       -1.03606600e-02, -3.23287137e-02, -7.82366991e-02,  1.39999822e-01,\n",
      "       -7.83451572e-02,  4.75034602e-02,  2.17922051e-02,  2.15996113e-02,\n",
      "        1.26247987e-01,  2.58708782e-02,  2.25460511e-02, -1.51818572e-02,\n",
      "        1.31676063e-01,  1.49591258e-02,  1.44851301e-02, -1.73797552e-03,\n",
      "       -1.30213890e-02, -4.92871888e-02, -6.19215369e-02,  2.19894331e-02,\n",
      "       -2.25475561e-02,  2.41535772e-02,  4.78624739e-02,  1.22133677e-03,\n",
      "       -1.20902203e-01,  1.32302558e-02, -1.54149532e-02,  2.83246282e-02,\n",
      "       -3.10694408e-02, -1.46344937e-02, -1.65577717e-02,  2.35191416e-02,\n",
      "       -9.64514166e-02, -3.89024951e-02, -2.93490924e-02, -3.12555879e-02,\n",
      "       -4.68743257e-02,  1.09610539e-02, -6.75955368e-03,  3.04253045e-02,\n",
      "       -1.04898311e-01, -5.67980064e-03, -3.43260877e-02,  1.45462360e-02,\n",
      "       -3.66197601e-02, -3.56917530e-02, -9.48330462e-02, -5.12569398e-02,\n",
      "        8.64618644e-02, -2.77541112e-02, -3.25651504e-02,  3.34853269e-02,\n",
      "       -2.37416439e-02, -3.36304121e-03,  3.84847298e-02, -1.16920462e-02,\n",
      "        1.26851453e-02,  5.94257452e-02,  3.43228206e-02,  8.60364065e-02,\n",
      "        2.51667034e-02, -3.40468735e-02,  1.36577422e-02,  1.56078571e-02,\n",
      "        3.08769103e-02, -1.81979723e-02,  7.57989381e-03,  7.66788656e-03,\n",
      "       -2.11011246e-02, -1.69955418e-02, -3.21228839e-02,  6.36860356e-02,\n",
      "        3.04611865e-03, -1.91094372e-02,  1.80244185e-02,  3.07544582e-02,\n",
      "       -1.07197752e-02,  5.66488393e-02,  2.32535303e-02,  2.90549714e-02,\n",
      "        7.83392228e-03,  6.76505789e-02,  8.16549063e-02,  4.75346819e-02,\n",
      "       -2.63030902e-02, -4.28142957e-02, -9.84376948e-03,  6.54424075e-03,\n",
      "        1.73739418e-02,  3.05646397e-02, -3.79856527e-02, -1.68597971e-08,\n",
      "       -8.76517072e-02,  3.90889868e-02, -7.20245438e-03,  5.52414432e-02,\n",
      "        3.03753372e-02,  1.83689054e-02, -8.77622589e-02, -6.73264489e-02,\n",
      "       -7.47694299e-02, -9.43135004e-03,  3.76282372e-02,  1.31886378e-01,\n",
      "       -8.08257386e-02,  1.32965902e-02,  4.86109294e-02,  9.02581662e-02,\n",
      "       -2.93895863e-02,  3.96442413e-02, -3.41486149e-02,  3.52001865e-03,\n",
      "       -1.11690713e-02,  9.28305741e-03,  1.11607546e-02, -6.47518933e-02,\n",
      "        3.45871858e-02, -9.49010178e-02, -7.50298286e-03,  3.68567184e-03,\n",
      "        1.04805995e-02, -6.66734427e-02,  5.16081825e-02,  1.04834326e-01,\n",
      "       -5.47901541e-02,  2.15420369e-02, -8.58132467e-02, -2.79255714e-02,\n",
      "        2.72806250e-02,  9.63208824e-02,  6.69857562e-02, -7.18217269e-02,\n",
      "       -9.73901451e-02,  4.43653092e-02, -5.39105274e-02, -1.07493430e-01,\n",
      "       -5.50863519e-02,  3.48056778e-02,  6.67178705e-02, -5.59812784e-02,\n",
      "        2.18689684e-02, -6.31628036e-02, -6.73646405e-02,  3.76827568e-02,\n",
      "        7.91108608e-02,  2.68120226e-03,  1.05729938e-01,  9.69174057e-02,\n",
      "        4.74402755e-02,  3.06887254e-02, -8.88596848e-03,  6.08413592e-02,\n",
      "        3.07609383e-02, -3.06790769e-02,  3.75806279e-02,  3.74219082e-02],\n",
      "      dtype=float32)]\n"
     ]
    }
   ],
   "source": [
    "sample_text = [\"Hello world!\"]\n",
    "emb = ollama_embed(sample_text)\n",
    "print(emb)"
   ]
  },
  {
   "cell_type": "markdown",
   "id": "4ca7dedc",
   "metadata": {},
   "source": [
    "### Suppression collection (optionnel)"
   ]
  },
  {
   "cell_type": "code",
   "execution_count": 22,
   "id": "57ec0d1f",
   "metadata": {},
   "outputs": [],
   "source": [
    "# chroma_client.delete_collection(\"fake_news\")\n",
    "# chroma_client.delete_collection(\"true_news\")"
   ]
  },
  {
   "cell_type": "markdown",
   "id": "b74ea667",
   "metadata": {},
   "source": [
    "### Création de collections"
   ]
  },
  {
   "cell_type": "code",
   "execution_count": 23,
   "id": "5b0e7dfe",
   "metadata": {},
   "outputs": [],
   "source": [
    "collection_news = chroma_client.get_or_create_collection(\n",
    "    name='news_articles',\n",
    "    embedding_function=ollama_embed\n",
    ")"
   ]
  },
  {
   "cell_type": "markdown",
   "id": "cc875e3c",
   "metadata": {},
   "source": [
    "### Ajout du contenu aux collections"
   ]
  },
  {
   "cell_type": "code",
   "execution_count": 24,
   "id": "39fc9a5d",
   "metadata": {},
   "outputs": [],
   "source": [
    "def add_chunks_to_collection(df, collection, prefix, batch_size=20):\n",
    "    ids, documents, metadatas, embeddings = [], [], [], []\n",
    "\n",
    "    for idx, row in df.iterrows():\n",
    "        for i, chunk in enumerate(row['chunks']):\n",
    "            ids.append(f'{prefix}_{idx}_{i}')\n",
    "            documents.append(chunk)\n",
    "            metadatas.append({\n",
    "                'title': row['title'],\n",
    "                'subject': row['subject'],\n",
    "                'date': str(row['date']),\n",
    "                'label': row['label'],\n",
    "                'chunk_index': i\n",
    "            })\n",
    "            # calculer l'embedding pour ce chunk\n",
    "            embeddings.append(ollama_embed([chunk])[0])\n",
    "\n",
    "            if len(documents) >= batch_size:\n",
    "                collection.add(\n",
    "                    ids=ids,\n",
    "                    documents=documents,\n",
    "                    metadatas=metadatas,\n",
    "                    embeddings=embeddings\n",
    "                )\n",
    "                ids, documents, metadatas, embeddings = [], [], [], []\n",
    "\n",
    "    if len(documents) > 0:\n",
    "        collection.add(\n",
    "            ids=ids,\n",
    "            documents=documents,\n",
    "            metadatas=metadatas,\n",
    "            embeddings=embeddings\n",
    "        )\n",
    "\n",
    "\n",
    "# Envoi de 100 lignes seulement pour test rapide\n",
    "add_chunks_to_collection(news_df.head(100), collection_news, prefix=\"news\")"
   ]
  },
  {
   "cell_type": "code",
   "execution_count": 25,
   "id": "2650d68f",
   "metadata": {},
   "outputs": [
    {
     "name": "stdout",
     "output_type": "stream",
     "text": [
      "Fake collection size: 1333\n",
      "{'ids': ['news_0_0'], 'embeddings': None, 'documents': ['donald trump just couldn t wish all americans a happy new year and leave it at that instead he had to give a shout out to his enemies haters and the very dishonest fake news media the former reality s'], 'uris': None, 'included': ['metadatas', 'documents'], 'data': None, 'metadatas': [{'date': '2017-12-31 00:00:00', 'title': 'donald trump sends out embarrassing new years eve message this is disturbing', 'label': 'fake', 'subject': 'news', 'chunk_index': 0}]}\n"
     ]
    }
   ],
   "source": [
    "print(\"Fake collection size:\", collection_news.count())\n",
    "\n",
    "print(collection_news.get(ids=[\"news_0_0\"]))"
   ]
  },
  {
   "cell_type": "code",
   "execution_count": 26,
   "id": "49bfcff2",
   "metadata": {},
   "outputs": [
    {
     "name": "stdout",
     "output_type": "stream",
     "text": [
      "{'ids': [['news_55_7', 'news_17_10', 'news_40_13', 'news_67_9', 'news_62_10']], 'embeddings': None, 'documents': [['n donald trump was the presidentelect he wanted the media to stop publishing unflattering photos of him so naturally internet users circulated them quickly trump hates photos displaying his many chins', 'r trumpphoto by ann heisenfeltgetty images', 't donald trump is fake newsphoto by tom penningtongetty images', 'hat is donald trump knows nothing aboutfeatured image via andrew burtongetty images', 'cial white house photographer and an ardent trump troll took to instagram to taunt president trump souza shared a compilation of images consisting of 15 time covers featuring the obamas originally pos']], 'uris': None, 'included': ['documents', 'metadatas', 'distances'], 'data': None, 'metadatas': [[{'date': '2017-11-28 00:00:00', 'label': 'fake', 'title': 'sean hannity is throwing a stage4 temper tantrum over the photo he posed for image', 'subject': 'news', 'chunk_index': 7}, {'title': 'mueller spokesman just fcked up donald trumps christmas', 'subject': 'news', 'label': 'fake', 'chunk_index': 10, 'date': '2017-12-17 00:00:00'}, {'title': 'fbi agents destroy donald trump after he attacks the agency and james comey', 'label': 'fake', 'chunk_index': 13, 'date': '2017-12-03 00:00:00', 'subject': 'news'}, {'subject': 'news', 'chunk_index': 9, 'date': '2017-11-25 00:00:00', 'label': 'fake', 'title': 'cnn blisters trump after he attacks them for bad representation thats your job tweets'}, {'date': '2017-11-27 00:00:00', 'label': 'fake', 'title': 'former obama photographer takes trolling trump to a whole new level tweets', 'chunk_index': 10, 'subject': 'news'}]], 'distances': [[0.31049662828445435, 0.34491652250289917, 0.3620847463607788, 0.4024774432182312, 0.43068069219589233]]}\n"
     ]
    }
   ],
   "source": [
    "query_result = collection_news.query(\n",
    "    query_texts=[\"donald trump photo media\"],\n",
    "    n_results=5,\n",
    "    include=[\"documents\", \"metadatas\", \"distances\"]\n",
    ")\n",
    "\n",
    "print(query_result)"
   ]
  }
 ],
 "metadata": {
  "kernelspec": {
   "display_name": "fake-news-detection",
   "language": "python",
   "name": "python3"
  },
  "language_info": {
   "codemirror_mode": {
    "name": "ipython",
    "version": 3
   },
   "file_extension": ".py",
   "mimetype": "text/x-python",
   "name": "python",
   "nbconvert_exporter": "python",
   "pygments_lexer": "ipython3",
   "version": "3.12.3"
  }
 },
 "nbformat": 4,
 "nbformat_minor": 5
}
