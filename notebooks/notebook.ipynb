{
  "cells": [
    {
      "cell_type": "markdown",
      "id": "d1b9758b",
      "metadata": {},
      "source": [
        "**Todo**\n",
        "\n",
        "-   doublons ×\n",
        "-   valeurs vides (whitespace only) ×\n",
        "-   caractères spéciaux ×\n",
        "-   url ×\n",
        "-   espaces multiples ×\n",
        "-   balises html ×\n",
        "-   unescape (gérer les \\&amp; et autres) ×\n",
        "-   dates en datetime ×\n",
        "-   lower ×\n"
      ]
    },
    {
      "cell_type": "code",
      "execution_count": 33,
      "id": "62c1565c",
      "metadata": {},
      "outputs": [],
      "source": [
        "import pandas as pd\n",
        "import re\n",
        "from html import unescape"
      ]
    },
    {
      "cell_type": "markdown",
      "id": "079cda55",
      "metadata": {},
      "source": [
        "## Chargement\n"
      ]
    },
    {
      "cell_type": "code",
      "execution_count": null,
      "id": "2e5203f4",
      "metadata": {},
      "outputs": [
        {
          "data": {
            "application/vnd.microsoft.datawrangler.viewer.v0+json": {
              "columns": [
                {
                  "name": "index",
                  "rawType": "int64",
                  "type": "integer"
                },
                {
                  "name": "title",
                  "rawType": "object",
                  "type": "string"
                },
                {
                  "name": "text",
                  "rawType": "object",
                  "type": "string"
                },
                {
                  "name": "subject",
                  "rawType": "object",
                  "type": "string"
                },
                {
                  "name": "date",
                  "rawType": "object",
                  "type": "string"
                },
                {
                  "name": "label",
                  "rawType": "object",
                  "type": "string"
                }
              ],
              "ref": "0a596a5b-1451-4bb9-9a04-998588592fae",
              "rows": [
                [
                  "0",
                  "As U.S. budget fight looms, Republicans flip their fiscal script",
                  "WASHINGTON (Reuters) - The head of a conservative Republican faction in the U.S. Congress, who voted this month for a huge expansion of the national debt to pay for tax cuts, called himself a “fiscal conservative” on Sunday and urged budget restraint in 2018. In keeping with a sharp pivot under way among Republicans, U.S. Representative Mark Meadows, speaking on CBS’ “Face the Nation,” drew a hard line on federal spending, which lawmakers are bracing to do battle over in January. When they return from the holidays on Wednesday, lawmakers will begin trying to pass a federal budget in a fight likely to be linked to other issues, such as immigration policy, even as the November congressional election campaigns approach in which Republicans will seek to keep control of Congress. President Donald Trump and his Republicans want a big budget increase in military spending, while Democrats also want proportional increases for non-defense “discretionary” spending on programs that support education, scientific research, infrastructure, public health and environmental protection. “The (Trump) administration has already been willing to say: ‘We’re going to increase non-defense discretionary spending ... by about 7 percent,’” Meadows, chairman of the small but influential House Freedom Caucus, said on the program. “Now, Democrats are saying that’s not enough, we need to give the government a pay raise of 10 to 11 percent. For a fiscal conservative, I don’t see where the rationale is. ... Eventually you run out of other people’s money,” he said. Meadows was among Republicans who voted in late December for their party’s debt-financed tax overhaul, which is expected to balloon the federal budget deficit and add about $1.5 trillion over 10 years to the $20 trillion national debt. “It’s interesting to hear Mark talk about fiscal responsibility,” Democratic U.S. Representative Joseph Crowley said on CBS. Crowley said the Republican tax bill would require the  United States to borrow $1.5 trillion, to be paid off by future generations, to finance tax cuts for corporations and the rich. “This is one of the least ... fiscally responsible bills we’ve ever seen passed in the history of the House of Representatives. I think we’re going to be paying for this for many, many years to come,” Crowley said. Republicans insist the tax package, the biggest U.S. tax overhaul in more than 30 years,  will boost the economy and job growth. House Speaker Paul Ryan, who also supported the tax bill, recently went further than Meadows, making clear in a radio interview that welfare or “entitlement reform,” as the party often calls it, would be a top Republican priority in 2018. In Republican parlance, “entitlement” programs mean food stamps, housing assistance, Medicare and Medicaid health insurance for the elderly, poor and disabled, as well as other programs created by Washington to assist the needy. Democrats seized on Ryan’s early December remarks, saying they showed Republicans would try to pay for their tax overhaul by seeking spending cuts for social programs. But the goals of House Republicans may have to take a back seat to the Senate, where the votes of some Democrats will be needed to approve a budget and prevent a government shutdown. Democrats will use their leverage in the Senate, which Republicans narrowly control, to defend both discretionary non-defense programs and social spending, while tackling the issue of the “Dreamers,” people brought illegally to the country as children. Trump in September put a March 2018 expiration date on the Deferred Action for Childhood Arrivals, or DACA, program, which protects the young immigrants from deportation and provides them with work permits. The president has said in recent Twitter messages he wants funding for his proposed Mexican border wall and other immigration law changes in exchange for agreeing to help the Dreamers. Representative Debbie Dingell told CBS she did not favor linking that issue to other policy objectives, such as wall funding. “We need to do DACA clean,” she said.  On Wednesday, Trump aides will meet with congressional leaders to discuss those issues. That will be followed by a weekend of strategy sessions for Trump and Republican leaders on Jan. 6 and 7, the White House said. Trump was also scheduled to meet on Sunday with Florida Republican Governor Rick Scott, who wants more emergency aid. The House has passed an $81 billion aid package after hurricanes in Florida, Texas and Puerto Rico, and wildfires in California. The package far exceeded the $44 billion requested by the Trump administration. The Senate has not yet voted on the aid. ",
                  "politicsNews",
                  "December 31, 2017 ",
                  "true"
                ],
                [
                  "1",
                  "U.S. military to accept transgender recruits on Monday: Pentagon",
                  "WASHINGTON (Reuters) - Transgender people will be allowed for the first time to enlist in the U.S. military starting on Monday as ordered by federal courts, the Pentagon said on Friday, after President Donald Trump’s administration decided not to appeal rulings that blocked his transgender ban. Two federal appeals courts, one in Washington and one in Virginia, last week rejected the administration’s request to put on hold orders by lower court judges requiring the military to begin accepting transgender recruits on Jan. 1. A Justice Department official said the administration will not challenge those rulings. “The Department of Defense has announced that it will be releasing an independent study of these issues in the coming weeks. So rather than litigate this interim appeal before that occurs, the administration has decided to wait for DOD’s study and will continue to defend the president’s lawful authority in District Court in the meantime,” the official said, speaking on condition of anonymity. In September, the Pentagon said it had created a panel of senior officials to study how to implement a directive by Trump to prohibit transgender individuals from serving. The Defense Department has until Feb. 21 to submit a plan to Trump. Lawyers representing currently-serving transgender service members and aspiring recruits said they had expected the administration to appeal the rulings to the conservative-majority Supreme Court, but were hoping that would not happen. Pentagon spokeswoman Heather Babb said in a statement: “As mandated by court order, the Department of Defense is prepared to begin accessing transgender applicants for military service Jan. 1. All applicants must meet all accession standards.” Jennifer Levi, a lawyer with gay, lesbian and transgender advocacy group GLAD, called the decision not to appeal “great news.” “I’m hoping it means the government has come to see that there is no way to justify a ban and that it’s not good for the military or our country,” Levi said. Both GLAD and the American Civil Liberties Union represent plaintiffs in the lawsuits filed against the administration. In a move that appealed to his hard-line conservative supporters, Trump announced in July that he would prohibit transgender people from serving in the military, reversing Democratic President Barack Obama’s policy of accepting them. Trump said on Twitter at the time that the military “cannot be burdened with the tremendous medical costs and disruption that transgender in the military would entail.” Four federal judges - in Baltimore, Washington, D.C., Seattle and Riverside, California - have issued rulings blocking Trump’s ban while legal challenges to the Republican president’s policy proceed. The judges said the ban would likely violate the right under the U.S. Constitution to equal protection under the law. The Pentagon on Dec. 8 issued guidelines to recruitment personnel in order to enlist transgender applicants by Jan. 1. The memo outlined medical requirements and specified how the applicants’ sex would be identified and even which undergarments they would wear. The Trump administration previously said in legal papers that the armed forces were not prepared to train thousands of personnel on the medical standards needed to process transgender applicants and might have to accept “some individuals who are not medically fit for service.” The Obama administration had set a deadline of July 1, 2017, to begin accepting transgender recruits. But Trump’s defense secretary, James Mattis, postponed that date to Jan. 1, 2018, which the president’s ban then put off indefinitely. Trump has taken other steps aimed at rolling back transgender rights. In October, his administration said a federal law banning gender-based workplace discrimination does not protect transgender employees, reversing another Obama-era position. In February, Trump rescinded guidance issued by the Obama administration saying that public schools should allow transgender students to use the restroom that corresponds to their gender identity. ",
                  "politicsNews",
                  "December 29, 2017 ",
                  "true"
                ],
                [
                  "2",
                  "Senior U.S. Republican senator: 'Let Mr. Mueller do his job'",
                  "WASHINGTON (Reuters) - The special counsel investigation of links between Russia and President Trump’s 2016 election campaign should continue without interference in 2018, despite calls from some Trump administration allies and Republican lawmakers to shut it down, a prominent Republican senator said on Sunday. Lindsey Graham, who serves on the Senate armed forces and judiciary committees, said Department of Justice Special Counsel Robert Mueller needs to carry on with his Russia investigation without political interference. “This investigation will go forward. It will be an investigation conducted without political influence,” Graham said on CBS’s Face the Nation news program. “And we all need to let Mr. Mueller do his job. I think he’s the right guy at the right time.”  The question of how Russia may have interfered in the election, and how Trump’s campaign may have had links with or co-ordinated any such effort, has loomed over the White House since Trump took office in January. It shows no sign of receding as Trump prepares for his second year in power, despite intensified rhetoric from some Trump allies in recent weeks accusing Mueller’s team of bias against the Republican president. Trump himself seemed to undercut his supporters in an interview last week with the New York Times in which he said he expected Mueller was “going to be fair.”    Russia’s role in the election and the question of possible links to the Trump campaign are the focus of multiple inquiries in Washington. Three committees of the Senate and the House of Representatives are investigating, as well as Mueller, whose team in May took over an earlier probe launched by the U.S. Federal Bureau of Investigation (FBI). Several members of the Trump campaign and administration have been convicted or indicted in the investigation.  Trump and his allies deny any collusion with Russia during the campaign, and the Kremlin has denied meddling in the election. Graham said he still wants an examination of the FBI’s use of a dossier on links between Trump and Russia that was compiled by a former British spy, Christopher Steele, which prompted Trump allies and some Republicans to question Mueller’s inquiry.   On Saturday, the New York Times reported that it was not that dossier that triggered an early FBI probe, but a tip from former Trump campaign foreign policy adviser George Papadopoulos to an Australian diplomat that Russia had damaging information about former Trump rival Hillary Clinton.  “I want somebody to look at the way the Department of Justice used this dossier. It bothers me greatly the way they used it, and I want somebody to look at it,” Graham said. But he said the Russia investigation must continue. “As a matter of fact, it would hurt us if we ignored it,” he said. ",
                  "politicsNews",
                  "December 31, 2017 ",
                  "true"
                ],
                [
                  "3",
                  "FBI Russia probe helped by Australian diplomat tip-off: NYT",
                  "WASHINGTON (Reuters) - Trump campaign adviser George Papadopoulos told an Australian diplomat in May 2016 that Russia had political dirt on Democratic presidential candidate Hillary Clinton, the New York Times reported on Saturday. The conversation between Papadopoulos and the diplomat, Alexander Downer, in London was a driving factor behind the FBI’s decision to open a counter-intelligence investigation of Moscow’s contacts with the Trump campaign, the Times reported. Two months after the meeting, Australian officials passed the information that came from Papadopoulos to their American counterparts when leaked Democratic emails began appearing online, according to the newspaper, which cited four current and former U.S. and foreign officials. Besides the information from the Australians, the probe by the Federal Bureau of Investigation was also propelled by intelligence from other friendly governments, including the British and Dutch, the Times said. Papadopoulos, a Chicago-based international energy lawyer, pleaded guilty on Oct. 30 to lying to FBI agents about contacts with people who claimed to have ties to top Russian officials. It was the first criminal charge alleging links between the Trump campaign and Russia. The White House has played down the former aide’s campaign role, saying it was “extremely limited” and that any actions he took would have been on his own. The New York Times, however, reported that Papadopoulos helped set up a meeting between then-candidate Donald Trump and Egyptian President Abdel Fattah al-Sisi and edited the outline of Trump’s first major foreign policy speech in April 2016. The federal investigation, which is now being led by Special Counsel Robert Mueller, has hung over Trump’s White House since he took office almost a year ago. Some Trump allies have recently accused Mueller’s team of being biased against the Republican president. Lawyers for Papadopoulos did not immediately respond to requests by Reuters for comment. Mueller’s office declined to comment. Trump’s White House attorney, Ty Cobb, declined to comment on the New York Times report. “Out of respect for the special counsel and his process, we are not commenting on matters such as this,” he said in a statement. Mueller has charged four Trump associates, including Papadopoulos, in his investigation. Russia has denied interfering in the U.S. election and Trump has said there was no collusion between his campaign and Moscow. ",
                  "politicsNews",
                  "December 30, 2017 ",
                  "true"
                ],
                [
                  "4",
                  "Trump wants Postal Service to charge 'much more' for Amazon shipments",
                  "SEATTLE/WASHINGTON (Reuters) - President Donald Trump called on the U.S. Postal Service on Friday to charge “much more” to ship packages for Amazon (AMZN.O), picking another fight with an online retail giant he has criticized in the past.     “Why is the United States Post Office, which is losing many billions of dollars a year, while charging Amazon and others so little to deliver their packages, making Amazon richer and the Post Office dumber and poorer? Should be charging MUCH MORE!” Trump wrote on Twitter.  The president’s tweet drew fresh attention to the fragile finances of the Postal Service at a time when tens of millions of parcels have just been shipped all over the country for the holiday season.  The U.S. Postal Service, which runs at a big loss, is an independent agency within the federal government and does not receive tax dollars for operating expenses, according to its website.  Package delivery has become an increasingly important part of its business as the Internet has led to a sharp decline in the amount of first-class letters. The president does not determine postal rates. They are set by the Postal Regulatory Commission, an independent government agency with commissioners selected by the president from both political parties. That panel raised prices on packages by almost 2 percent in November.  Amazon was founded by Jeff Bezos, who remains the chief executive officer of the retail company and is the richest person in the world, according to Bloomberg News. Bezos also owns The Washington Post, a newspaper Trump has repeatedly railed against in his criticisms of the news media. In tweets over the past year, Trump has said the “Amazon Washington Post” fabricated stories. He has said Amazon does not pay sales tax, which is not true, and so hurts other retailers, part of a pattern by the former businessman and reality television host of periodically turning his ire on big American companies since he took office in January. Daniel Ives, a research analyst at GBH Insights, said Trump’s comment could be taken as a warning to the retail giant. However, he said he was not concerned for Amazon. “We do not see any price hikes in the future. However, that is a risk that Amazon is clearly aware of and (it) is building out its distribution (system) aggressively,” he said. Amazon has shown interest in the past in shifting into its own delivery service, including testing drones for deliveries. In 2015, the company spent $11.5 billion on shipping, 46 percent of its total operating expenses that year.  Amazon shares were down 0.86 percent to $1,175.90 by early afternoon. Overall, U.S. stock prices were down slightly on Friday.  Satish Jindel, president of ShipMatrix Inc, which analyzes shipping data, disputed the idea that the Postal Service charges less than United Parcel Service Inc (UPS.N) and FedEx Corp (FDX.N), the other biggest players in the parcel delivery business in the United States. Many customers get lower rates from UPS and FedEx than they would get from the post office for comparable services, he said. The Postal Service delivers about 62 percent of Amazon packages, for about 3.5 to 4 million a day during the current peak year-end holiday shipping season, Jindel said. The Seattle-based company and the post office have an agreement in which mail carriers take Amazon packages on the last leg of their journeys, from post offices to customers’ doorsteps. Amazon’s No. 2 carrier is UPS, at 21 percent, and FedEx is third, with 8 percent or so, according to Jindel. Trump’s comment tapped into a debate over whether Postal Service pricing has kept pace with the rise of e-commerce, which has flooded the mail with small packages.Private companies like UPS have long claimed the current system unfairly undercuts their business. Steve Gaut, a spokesman for UPS, noted that the company values its “productive relationship” with the postal service, but that it has filed with the Postal Regulatory Commission its concerns about the postal service’s methods for covering costs. Representatives for Amazon, the White House, the U.S. Postal Service and FedEx declined comment or were not immediately available for comment on Trump’s tweet. According to its annual report, the Postal Service lost $2.74 billion this year, and its deficit has ballooned to $61.86 billion.  While the Postal Service’s revenue for first class mail, marketing mail and periodicals is flat or declining, revenue from package delivery is up 44 percent since 2014 to $19.5 billion in the fiscal year ended Sept. 30, 2017. But it also lost about $2 billion in revenue when a temporary surcharge expired in April 2016. According to a Government Accountability Office report in February, the service is facing growing personnel expenses, particularly $73.4 billion in unfunded pension and benefits liabilities. The Postal Service has not announced any plans to cut costs. By law, the Postal Service has to set prices for package delivery to cover the costs attributable to that service. But the postal service allocates only 5.5 percent of its total costs to its business of shipping packages even though that line of business is 28 percent of its total revenue. ",
                  "politicsNews",
                  "December 29, 2017 ",
                  "true"
                ]
              ],
              "shape": {
                "columns": 5,
                "rows": 5
              }
            },
            "text/html": [
              "<div>\n",
              "<style scoped>\n",
              "    .dataframe tbody tr th:only-of-type {\n",
              "        vertical-align: middle;\n",
              "    }\n",
              "\n",
              "    .dataframe tbody tr th {\n",
              "        vertical-align: top;\n",
              "    }\n",
              "\n",
              "    .dataframe thead th {\n",
              "        text-align: right;\n",
              "    }\n",
              "</style>\n",
              "<table border=\"1\" class=\"dataframe\">\n",
              "  <thead>\n",
              "    <tr style=\"text-align: right;\">\n",
              "      <th></th>\n",
              "      <th>title</th>\n",
              "      <th>text</th>\n",
              "      <th>subject</th>\n",
              "      <th>date</th>\n",
              "      <th>label</th>\n",
              "    </tr>\n",
              "  </thead>\n",
              "  <tbody>\n",
              "    <tr>\n",
              "      <th>0</th>\n",
              "      <td>As U.S. budget fight looms, Republicans flip t...</td>\n",
              "      <td>WASHINGTON (Reuters) - The head of a conservat...</td>\n",
              "      <td>politicsNews</td>\n",
              "      <td>December 31, 2017</td>\n",
              "      <td>true</td>\n",
              "    </tr>\n",
              "    <tr>\n",
              "      <th>1</th>\n",
              "      <td>U.S. military to accept transgender recruits o...</td>\n",
              "      <td>WASHINGTON (Reuters) - Transgender people will...</td>\n",
              "      <td>politicsNews</td>\n",
              "      <td>December 29, 2017</td>\n",
              "      <td>true</td>\n",
              "    </tr>\n",
              "    <tr>\n",
              "      <th>2</th>\n",
              "      <td>Senior U.S. Republican senator: 'Let Mr. Muell...</td>\n",
              "      <td>WASHINGTON (Reuters) - The special counsel inv...</td>\n",
              "      <td>politicsNews</td>\n",
              "      <td>December 31, 2017</td>\n",
              "      <td>true</td>\n",
              "    </tr>\n",
              "    <tr>\n",
              "      <th>3</th>\n",
              "      <td>FBI Russia probe helped by Australian diplomat...</td>\n",
              "      <td>WASHINGTON (Reuters) - Trump campaign adviser ...</td>\n",
              "      <td>politicsNews</td>\n",
              "      <td>December 30, 2017</td>\n",
              "      <td>true</td>\n",
              "    </tr>\n",
              "    <tr>\n",
              "      <th>4</th>\n",
              "      <td>Trump wants Postal Service to charge 'much mor...</td>\n",
              "      <td>SEATTLE/WASHINGTON (Reuters) - President Donal...</td>\n",
              "      <td>politicsNews</td>\n",
              "      <td>December 29, 2017</td>\n",
              "      <td>true</td>\n",
              "    </tr>\n",
              "  </tbody>\n",
              "</table>\n",
              "</div>"
            ],
            "text/plain": [
              "                                               title  \\\n",
              "0  As U.S. budget fight looms, Republicans flip t...   \n",
              "1  U.S. military to accept transgender recruits o...   \n",
              "2  Senior U.S. Republican senator: 'Let Mr. Muell...   \n",
              "3  FBI Russia probe helped by Australian diplomat...   \n",
              "4  Trump wants Postal Service to charge 'much mor...   \n",
              "\n",
              "                                                text       subject  \\\n",
              "0  WASHINGTON (Reuters) - The head of a conservat...  politicsNews   \n",
              "1  WASHINGTON (Reuters) - Transgender people will...  politicsNews   \n",
              "2  WASHINGTON (Reuters) - The special counsel inv...  politicsNews   \n",
              "3  WASHINGTON (Reuters) - Trump campaign adviser ...  politicsNews   \n",
              "4  SEATTLE/WASHINGTON (Reuters) - President Donal...  politicsNews   \n",
              "\n",
              "                 date label  \n",
              "0  December 31, 2017   true  \n",
              "1  December 29, 2017   true  \n",
              "2  December 31, 2017   true  \n",
              "3  December 30, 2017   true  \n",
              "4  December 29, 2017   true  "
            ]
          },
          "execution_count": 34,
          "metadata": {},
          "output_type": "execute_result"
        }
      ],
      "source": [
        "fake_df = pd.read_csv('../data/fake.csv')\n",
        "true_df = pd.read_csv('../data/True.csv')\n",
        "fake_df['label'] = 'fake'\n",
        "true_df['label'] = 'true'\n",
        "true_df.head()"
      ]
    },
    {
      "cell_type": "markdown",
      "id": "805698c3",
      "metadata": {},
      "source": [
        "# Exploration\n"
      ]
    },
    {
      "cell_type": "code",
      "execution_count": null,
      "id": "6e5b0293",
      "metadata": {},
      "outputs": [
        {
          "data": {
            "application/vnd.microsoft.datawrangler.viewer.v0+json": {
              "columns": [
                {
                  "name": "index",
                  "rawType": "object",
                  "type": "string"
                },
                {
                  "name": "title",
                  "rawType": "object",
                  "type": "unknown"
                },
                {
                  "name": "text",
                  "rawType": "object",
                  "type": "unknown"
                },
                {
                  "name": "subject",
                  "rawType": "object",
                  "type": "unknown"
                },
                {
                  "name": "date",
                  "rawType": "object",
                  "type": "unknown"
                },
                {
                  "name": "label",
                  "rawType": "object",
                  "type": "unknown"
                }
              ],
              "ref": "98ddc0fc-b58b-4cf6-829f-26e1ac0e1c21",
              "rows": [
                [
                  "count",
                  "23481",
                  "23481",
                  "23481",
                  "23481",
                  "23481"
                ],
                [
                  "unique",
                  "17903",
                  "17455",
                  "6",
                  "1681",
                  "1"
                ],
                [
                  "top",
                  "MEDIA IGNORES Time That Bill Clinton FIRED His FBI Director On Day Before Vince Foster Was Found Dead",
                  " ",
                  "News",
                  "May 10, 2017",
                  "fake"
                ],
                [
                  "freq",
                  "6",
                  "626",
                  "9050",
                  "46",
                  "23481"
                ]
              ],
              "shape": {
                "columns": 5,
                "rows": 4
              }
            },
            "text/html": [
              "<div>\n",
              "<style scoped>\n",
              "    .dataframe tbody tr th:only-of-type {\n",
              "        vertical-align: middle;\n",
              "    }\n",
              "\n",
              "    .dataframe tbody tr th {\n",
              "        vertical-align: top;\n",
              "    }\n",
              "\n",
              "    .dataframe thead th {\n",
              "        text-align: right;\n",
              "    }\n",
              "</style>\n",
              "<table border=\"1\" class=\"dataframe\">\n",
              "  <thead>\n",
              "    <tr style=\"text-align: right;\">\n",
              "      <th></th>\n",
              "      <th>title</th>\n",
              "      <th>text</th>\n",
              "      <th>subject</th>\n",
              "      <th>date</th>\n",
              "      <th>label</th>\n",
              "    </tr>\n",
              "  </thead>\n",
              "  <tbody>\n",
              "    <tr>\n",
              "      <th>count</th>\n",
              "      <td>23481</td>\n",
              "      <td>23481</td>\n",
              "      <td>23481</td>\n",
              "      <td>23481</td>\n",
              "      <td>23481</td>\n",
              "    </tr>\n",
              "    <tr>\n",
              "      <th>unique</th>\n",
              "      <td>17903</td>\n",
              "      <td>17455</td>\n",
              "      <td>6</td>\n",
              "      <td>1681</td>\n",
              "      <td>1</td>\n",
              "    </tr>\n",
              "    <tr>\n",
              "      <th>top</th>\n",
              "      <td>MEDIA IGNORES Time That Bill Clinton FIRED His...</td>\n",
              "      <td></td>\n",
              "      <td>News</td>\n",
              "      <td>May 10, 2017</td>\n",
              "      <td>fake</td>\n",
              "    </tr>\n",
              "    <tr>\n",
              "      <th>freq</th>\n",
              "      <td>6</td>\n",
              "      <td>626</td>\n",
              "      <td>9050</td>\n",
              "      <td>46</td>\n",
              "      <td>23481</td>\n",
              "    </tr>\n",
              "  </tbody>\n",
              "</table>\n",
              "</div>"
            ],
            "text/plain": [
              "                                                    title   text subject  \\\n",
              "count                                               23481  23481   23481   \n",
              "unique                                              17903  17455       6   \n",
              "top     MEDIA IGNORES Time That Bill Clinton FIRED His...           News   \n",
              "freq                                                    6    626    9050   \n",
              "\n",
              "                date  label  \n",
              "count          23481  23481  \n",
              "unique          1681      1  \n",
              "top     May 10, 2017   fake  \n",
              "freq              46  23481  "
            ]
          },
          "execution_count": 35,
          "metadata": {},
          "output_type": "execute_result"
        }
      ],
      "source": [
        "fake_df.describe()"
      ]
    },
    {
      "cell_type": "code",
      "execution_count": null,
      "id": "233e83f1",
      "metadata": {},
      "outputs": [],
      "source": [
        "true_df.describe()"
      ]
    },
    {
      "cell_type": "code",
      "execution_count": null,
      "id": "48ef2dd0",
      "metadata": {},
      "outputs": [],
      "source": [
        "fake_df.info()"
      ]
    },
    {
      "cell_type": "code",
      "execution_count": null,
      "id": "9e763004",
      "metadata": {},
      "outputs": [],
      "source": [
        "print(fake_df['subject'].value_counts())\n",
        "print('')\n",
        "print(true_df['subject'].value_counts())"
      ]
    },
    {
      "cell_type": "code",
      "execution_count": null,
      "id": "2936b630",
      "metadata": {},
      "outputs": [],
      "source": [
        "fake_df[fake_df['text'].duplicated()]"
      ]
    },
    {
      "cell_type": "code",
      "execution_count": null,
      "id": "050c8878",
      "metadata": {},
      "outputs": [],
      "source": [
        "fake_df[fake_df['title'].duplicated()]"
      ]
    },
    {
      "cell_type": "code",
      "execution_count": null,
      "id": "6d9c4d2f",
      "metadata": {},
      "outputs": [],
      "source": [
        "display(fake_df[fake_df['text'].str.isspace()])\n",
        "display(true_df[true_df['text'].str.isspace()])"
      ]
    },
    {
      "cell_type": "code",
      "execution_count": null,
      "id": "8af3b7e6",
      "metadata": {},
      "outputs": [],
      "source": [
        "display(fake_df[fake_df['title'].str.isspace()])\n",
        "display(true_df[true_df['title'].str.isspace()])"
      ]
    },
    {
      "cell_type": "code",
      "execution_count": null,
      "id": "38bf3e25",
      "metadata": {},
      "outputs": [],
      "source": [
        "display(fake_df[fake_df['date'].str.isspace()])\n",
        "display(true_df[true_df['date'].str.isspace()])"
      ]
    },
    {
      "cell_type": "code",
      "execution_count": null,
      "id": "e6aff324",
      "metadata": {},
      "outputs": [],
      "source": [
        "fake_df.isna().sum()"
      ]
    },
    {
      "cell_type": "code",
      "execution_count": null,
      "id": "047cd5a2",
      "metadata": {},
      "outputs": [],
      "source": [
        "true_df.isna().sum()"
      ]
    },
    {
      "cell_type": "markdown",
      "id": "a978e284",
      "metadata": {},
      "source": [
        "# Nettoyage\n"
      ]
    },
    {
      "cell_type": "markdown",
      "id": "d86b71b6",
      "metadata": {},
      "source": [
        "## Supprimer les doublons\n"
      ]
    },
    {
      "cell_type": "code",
      "execution_count": null,
      "id": "08a39e18",
      "metadata": {},
      "outputs": [],
      "source": [
        "clean_fake_df = fake_df.copy()\n",
        "clean_true_df = true_df.copy()"
      ]
    },
    {
      "cell_type": "code",
      "execution_count": null,
      "id": "52ec336f",
      "metadata": {},
      "outputs": [],
      "source": [
        "clean_fake_df = clean_fake_df.drop_duplicates('text')\n",
        "clean_fake_df.describe()"
      ]
    },
    {
      "cell_type": "code",
      "execution_count": null,
      "id": "272ca9f0",
      "metadata": {},
      "outputs": [],
      "source": [
        "clean_true_df = clean_true_df.drop_duplicates('text')\n",
        "clean_true_df.describe()"
      ]
    },
    {
      "cell_type": "code",
      "execution_count": null,
      "id": "64414ebf",
      "metadata": {},
      "outputs": [],
      "source": [
        "def remove_if_brackets(text):\n",
        "    if text.strip().startswith('[') and text.strip().endswith(']'):\n",
        "        return ''\n",
        "    return text\n",
        "\n",
        "\n",
        "clean_fake_df['text'] = clean_fake_df['text'].apply(lambda x: remove_if_brackets(x))\n",
        "clean_fake_df['title'] = clean_fake_df['title'].apply(lambda x: remove_if_brackets(x))\n",
        "\n",
        "clean_true_df['text'] = clean_true_df['text'].apply(lambda x: remove_if_brackets(x))\n",
        "clean_true_df['title'] = clean_true_df['title'].apply(lambda x: remove_if_brackets(x))"
      ]
    },
    {
      "cell_type": "code",
      "execution_count": null,
      "id": "97b0f8de",
      "metadata": {},
      "outputs": [],
      "source": [
        "def normalize_spaces(text):\n",
        "    return re.sub(r'\\s+', ' ', text).strip()\n",
        "\n",
        "\n",
        "clean_fake_df['text'] = clean_fake_df['text'].apply(lambda x: normalize_spaces(x))\n",
        "clean_fake_df['title'] = clean_fake_df['title'].apply(lambda x: normalize_spaces(x))\n",
        "\n",
        "clean_true_df['text'] = clean_true_df['text'].apply(lambda x: normalize_spaces(x))\n",
        "clean_true_df['title'] = clean_true_df['title'].apply(lambda x: normalize_spaces(x))"
      ]
    },
    {
      "cell_type": "code",
      "execution_count": null,
      "id": "e2b1e7c4",
      "metadata": {},
      "outputs": [],
      "source": [
        "def remove_special_characters(text):\n",
        "    return re.sub(r'[^a-zA-Z0-9\\s]', '', text)\n",
        "\n",
        "\n",
        "clean_fake_df['text'] = clean_fake_df['text'].apply(\n",
        "    lambda x: remove_special_characters(x)\n",
        ")\n",
        "clean_fake_df['title'] = clean_fake_df['title'].apply(\n",
        "    lambda x: remove_special_characters(x)\n",
        ")\n",
        "\n",
        "clean_true_df['text'] = clean_true_df['text'].apply(\n",
        "    lambda x: remove_special_characters(x)\n",
        ")\n",
        "clean_true_df['title'] = clean_true_df['title'].apply(\n",
        "    lambda x: remove_special_characters(x)\n",
        ")"
      ]
    },
    {
      "cell_type": "code",
      "execution_count": null,
      "id": "59ef8143",
      "metadata": {},
      "outputs": [],
      "source": [
        "def remove_urls(text):\n",
        "    return re.sub(r'http\\S+|www\\S+', '', text)\n",
        "\n",
        "\n",
        "clean_fake_df['text'] = clean_fake_df['text'].apply(lambda x: remove_urls(x))\n",
        "clean_fake_df['title'] = clean_fake_df['title'].apply(lambda x: remove_urls(x))\n",
        "\n",
        "clean_true_df['text'] = clean_true_df['text'].apply(lambda x: remove_urls(x))\n",
        "clean_true_df['title'] = clean_true_df['title'].apply(lambda x: remove_urls(x))"
      ]
    },
    {
      "cell_type": "code",
      "execution_count": null,
      "id": "aeb480c4",
      "metadata": {},
      "outputs": [],
      "source": [
        "def remove_html_tags(text):\n",
        "    return re.sub(r'<.*?>', '', text)\n",
        "\n",
        "\n",
        "clean_fake_df['text'] = clean_fake_df['text'].apply(lambda x: remove_html_tags(x))\n",
        "clean_fake_df['title'] = clean_fake_df['title'].apply(lambda x: remove_html_tags(x))\n",
        "\n",
        "clean_true_df['text'] = clean_true_df['text'].apply(lambda x: remove_html_tags(x))\n",
        "clean_true_df['title'] = clean_true_df['title'].apply(lambda x: remove_html_tags(x))"
      ]
    },
    {
      "cell_type": "code",
      "execution_count": null,
      "id": "00e5e610",
      "metadata": {},
      "outputs": [],
      "source": [
        "clean_true_df['text'] = clean_true_df['text'].apply(lambda x: unescape(x))\n",
        "clean_true_df['title'] = clean_true_df['title'].apply(lambda x: unescape(x))"
      ]
    },
    {
      "cell_type": "markdown",
      "id": "408f688d",
      "metadata": {},
      "source": [
        "## Supprimer les chaînes de caractères vides\n"
      ]
    },
    {
      "cell_type": "code",
      "execution_count": null,
      "id": "406f9bd0",
      "metadata": {},
      "outputs": [],
      "source": [
        "clean_fake_df = clean_fake_df[clean_fake_df['text'].str.strip().astype(bool)]\n",
        "clean_fake_df = clean_fake_df[clean_fake_df['title'].str.strip().astype(bool)]\n",
        "clean_fake_df[clean_fake_df['title'].str.isspace()]"
      ]
    },
    {
      "cell_type": "code",
      "execution_count": null,
      "id": "44ac12b7",
      "metadata": {},
      "outputs": [],
      "source": [
        "clean_true_df = clean_true_df[clean_true_df['text'].str.strip().astype(bool)]\n",
        "clean_true_df = clean_true_df[clean_true_df['title'].str.strip().astype(bool)]\n",
        "clean_true_df[clean_true_df['title'].str.isspace()]"
      ]
    },
    {
      "cell_type": "markdown",
      "id": "54f3753f",
      "metadata": {},
      "source": [
        "## Normaliser le format des dates\n"
      ]
    },
    {
      "cell_type": "code",
      "execution_count": null,
      "id": "efbceb6d",
      "metadata": {},
      "outputs": [],
      "source": [
        "clean_fake_df['date'] = pd.to_datetime(\n",
        "    clean_fake_df['date'], errors='coerce', format='mixed'\n",
        ")\n",
        "clean_true_df['date'] = pd.to_datetime(\n",
        "    clean_true_df['date'], errors='coerce', format='mixed'\n",
        ")\n",
        "clean_fake_df.sample(20)"
      ]
    },
    {
      "cell_type": "code",
      "execution_count": null,
      "id": "ea0f6bd5",
      "metadata": {},
      "outputs": [],
      "source": [
        "print(clean_fake_df['date'].isna().sum())\n",
        "display(clean_fake_df[clean_fake_df['date'].isna()])"
      ]
    },
    {
      "cell_type": "markdown",
      "id": "00d2b3f6",
      "metadata": {},
      "source": [
        "## Uniformiser la casse du texte\n"
      ]
    },
    {
      "cell_type": "code",
      "execution_count": null,
      "id": "400b4f8b",
      "metadata": {},
      "outputs": [],
      "source": [
        "clean_fake_df['text'] = clean_fake_df['text'].str.lower()\n",
        "clean_fake_df['title'] = clean_fake_df['title'].str.lower()\n",
        "clean_fake_df['subject'] = clean_fake_df['subject'].str.lower()\n",
        "\n",
        "clean_true_df['text'] = clean_true_df['text'].str.lower()\n",
        "clean_true_df['title'] = clean_true_df['title'].str.lower()\n",
        "clean_true_df['subject'] = clean_true_df['subject'].str.lower()\n",
        "\n",
        "clean_true_df.sample(20)"
      ]
    },
    {
      "cell_type": "code",
      "execution_count": null,
      "id": "a1946e82",
      "metadata": {},
      "outputs": [],
      "source": [
        "fake_df['date'] = pd.to_datetime(fake_df['date'].str.strip('\" '), errors='coerce', format='mixed')\n",
        "print(fake_df['date'])\n",
        "\n"
      ]
    },
    {
      "cell_type": "code",
      "execution_count": null,
      "id": "183cf105",
      "metadata": {},
      "outputs": [],
      "source": [
        "fake_df.sample(50)"
      ]
    }
  ],
  "metadata": {
    "kernelspec": {
      "display_name": "fake-news-detection",
      "language": "python",
      "name": "python3"
    },
    "language_info": {
      "codemirror_mode": {
        "name": "ipython",
        "version": 3
      },
      "file_extension": ".py",
      "mimetype": "text/x-python",
      "name": "python",
      "nbconvert_exporter": "python",
      "pygments_lexer": "ipython3",
      "version": "3.12.3"
    }
  },
  "nbformat": 4,
  "nbformat_minor": 5
}
